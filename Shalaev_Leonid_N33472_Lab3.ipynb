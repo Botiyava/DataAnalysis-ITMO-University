{
 "cells": [
  {
   "cell_type": "code",
   "execution_count": 57,
   "metadata": {},
   "outputs": [],
   "source": [
    "import pandas as pd\n",
    "import matplotlib\n",
    "import matplotlib.pyplot as plt\n",
    "matplotlib.style.use('ggplot')\n",
    "%matplotlib inline\n",
    "from sklearn.cluster import DBSCAN\n",
    "import numpy as np\n",
    "import os\n",
    "from sklearn.decomposition import PCA\n",
    "from sklearn.neighbors import NearestNeighbors"
   ]
  },
  {
   "cell_type": "code",
   "execution_count": 8,
   "metadata": {},
   "outputs": [],
   "source": [
    "#Задаём рабочую папку\n",
    "os.chdir(\"/home/botiyava/learning/subjects/algo/lec3/eco228/\")"
   ]
  },
  {
   "cell_type": "code",
   "execution_count": 19,
   "metadata": {},
   "outputs": [
    {
     "data": {
      "text/html": [
       "<div>\n",
       "<style scoped>\n",
       "    .dataframe tbody tr th:only-of-type {\n",
       "        vertical-align: middle;\n",
       "    }\n",
       "\n",
       "    .dataframe tbody tr th {\n",
       "        vertical-align: top;\n",
       "    }\n",
       "\n",
       "    .dataframe thead th {\n",
       "        text-align: right;\n",
       "    }\n",
       "</style>\n",
       "<table border=\"1\" class=\"dataframe\">\n",
       "  <thead>\n",
       "    <tr style=\"text-align: right;\">\n",
       "      <th></th>\n",
       "      <th>Work</th>\n",
       "      <th>Price</th>\n",
       "      <th>Salary</th>\n",
       "    </tr>\n",
       "    <tr>\n",
       "      <th>City</th>\n",
       "      <th></th>\n",
       "      <th></th>\n",
       "      <th></th>\n",
       "    </tr>\n",
       "  </thead>\n",
       "  <tbody>\n",
       "    <tr>\n",
       "      <th>Amsterdam</th>\n",
       "      <td>1714</td>\n",
       "      <td>65.6</td>\n",
       "      <td>49.0</td>\n",
       "    </tr>\n",
       "    <tr>\n",
       "      <th>Athens</th>\n",
       "      <td>1792</td>\n",
       "      <td>53.8</td>\n",
       "      <td>30.4</td>\n",
       "    </tr>\n",
       "    <tr>\n",
       "      <th>Bogota</th>\n",
       "      <td>2152</td>\n",
       "      <td>37.9</td>\n",
       "      <td>11.5</td>\n",
       "    </tr>\n",
       "    <tr>\n",
       "      <th>Bombay</th>\n",
       "      <td>2052</td>\n",
       "      <td>30.3</td>\n",
       "      <td>5.3</td>\n",
       "    </tr>\n",
       "    <tr>\n",
       "      <th>Brussels</th>\n",
       "      <td>1708</td>\n",
       "      <td>73.8</td>\n",
       "      <td>50.5</td>\n",
       "    </tr>\n",
       "  </tbody>\n",
       "</table>\n",
       "</div>"
      ],
      "text/plain": [
       "           Work  Price  Salary\n",
       "City                          \n",
       "Amsterdam  1714   65.6    49.0\n",
       "Athens     1792   53.8    30.4\n",
       "Bogota     2152   37.9    11.5\n",
       "Bombay     2052   30.3     5.3\n",
       "Brussels   1708   73.8    50.5"
      ]
     },
     "execution_count": 19,
     "metadata": {},
     "output_type": "execute_result"
    }
   ],
   "source": [
    "#Читаем данные\n",
    "df = pd.read_csv(\"Econom_Cities_data.csv\", sep=\";\", index_col='City')\n",
    "df.head()"
   ]
  },
  {
   "cell_type": "code",
   "execution_count": 20,
   "metadata": {},
   "outputs": [
    {
     "data": {
      "image/png": "[encoded data removed]",
      "text/plain": [
       "<matplotlib.figure.Figure at 0x7f56421a77b8>"
      ]
     },
     "metadata": {
      "needs_background": "light"
     },
     "output_type": "display_data"
    }
   ],
   "source": [
    "#Смортим есть ли выбросы в нашей выборке\n",
    "plt.show(df.boxplot(column=['Work']))"
   ]
  },
  {
   "cell_type": "code",
   "execution_count": 22,
   "metadata": {},
   "outputs": [],
   "source": [
    "#Выбросы обнаружены, они равны -9999. \n",
    "#Таких значений всего 2 и мы можем исключить\n",
    "#Эти города из выборки, т.к. 2 показателя из 3\n",
    "#в них не несут какой-либо информации\n",
    "q = df['Work'].quantile(0.01)\n",
    "Z = df[df['Work'] > q]\n"
   ]
  },
  {
   "cell_type": "code",
   "execution_count": 23,
   "metadata": {},
   "outputs": [
    {
     "name": "stdout",
     "output_type": "stream",
     "text": [
      "                Work  Price  Salary\n",
      "City                               \n",
      "Amsterdam       1714   65.6    49.0\n",
      "Athens          1792   53.8    30.4\n",
      "Bogota          2152   37.9    11.5\n",
      "Bombay          2052   30.3     5.3\n",
      "Brussels        1708   73.8    50.5\n",
      "Buenos_Aires    1971   56.1    12.5\n",
      "Caracas         2041   61.0    10.9\n",
      "Chicago         1924   73.9    61.9\n",
      "Copenhagen      1717   91.3    62.9\n",
      "Dublin          1759   76.0    41.4\n",
      "Dusseldorf      1693   78.5    60.2\n",
      "Frankfurt       1650   74.5    60.4\n",
      "Geneva          1880   95.9    90.3\n",
      "Helsinki        1667  113.6    66.6\n",
      "Hong_Kong       2375   63.8    27.8\n",
      "Houston         1978   71.9    46.3\n",
      "Johannesburg    1945   51.1    24.0\n",
      "Kuala_Lumpur    2167   43.5     9.9\n",
      "Lagos           1786   45.2     2.7\n",
      "Lisbon          1742   56.2    18.8\n",
      "London          1737   84.2    46.2\n",
      "Los_Angeles     2068   79.8    65.2\n",
      "Luxembourg      1768   71.1    71.1\n",
      "Madrid          1710   93.8    50.0\n",
      "Manila          2268   40.0     4.0\n",
      "Mexico_City     1944   49.8     5.7\n",
      "Milan           1773   82.0    53.3\n",
      "Montreal        1827   72.7    56.3\n",
      "Nairobi         1958   45.0     5.8\n",
      "New_York        1942   83.3    65.8\n",
      "Nicosia         1825   47.9    28.3\n",
      "Oslo            1583  115.5    63.7\n",
      "Panama          2078   49.2    13.8\n",
      "Paris           1744   81.6    45.9\n",
      "Rio_de_Janeiro  1749   46.3    10.5\n",
      "San_Paulo       1856   48.9    11.1\n",
      "Seoul           1842   58.3    32.7\n",
      "Singpore        2042   64.4    16.1\n",
      "Stockholm       1805  111.3    39.2\n",
      "Sydney          1668   70.8    52.1\n",
      "Taipei          2145   84.3    34.5\n",
      "Tel_Aviv        2015   67.3    27.0\n",
      "Tokyo           1880  115.0    68.0\n",
      "Toronto         1888   70.2    58.2\n",
      "Vienna          1780   78.0    51.3\n",
      "Zurich          1868  100.0   100.0\n"
     ]
    }
   ],
   "source": [
    "print(Z)"
   ]
  },
  {
   "cell_type": "code",
   "execution_count": 24,
   "metadata": {},
   "outputs": [],
   "source": [
    "#Стандартизируем данные, т.к. числа в 1 столбце намного больше чисел в остальных столбцах,\n",
    "#но все столбцы одинакого значимы для нас.\n",
    "from sklearn import preprocessing\n",
    "norm = preprocessing.MinMaxScaler()\n",
    "norm.fit(Z)\n",
    "X = norm.transform(Z)\n",
    "\n",
    "X = pd.DataFrame(X, index=Z.index, columns=Z.columns)"
   ]
  },
  {
   "cell_type": "code",
   "execution_count": 25,
   "metadata": {},
   "outputs": [
    {
     "name": "stdout",
     "output_type": "stream",
     "text": [
      "                    Work     Price    Salary\n",
      "City                                        \n",
      "Amsterdam       0.165404  0.414319  0.475848\n",
      "Athens          0.263889  0.275822  0.284687\n",
      "Bogota          0.718434  0.089202  0.090442\n",
      "Bombay          0.592172  0.000000  0.026721\n",
      "Brussels        0.157828  0.510563  0.491264\n",
      "Buenos_Aires    0.489899  0.302817  0.100719\n",
      "Caracas         0.578283  0.360329  0.084275\n",
      "Chicago         0.430556  0.511737  0.608428\n",
      "Copenhagen      0.169192  0.715962  0.618705\n",
      "Dublin          0.222222  0.536385  0.397739\n",
      "Dusseldorf      0.138889  0.565728  0.590956\n",
      "Frankfurt       0.084596  0.518779  0.593011\n",
      "Geneva          0.375000  0.769953  0.900308\n",
      "Helsinki        0.106061  0.977700  0.656732\n",
      "Hong_Kong       1.000000  0.393192  0.257965\n",
      "Houston         0.498737  0.488263  0.448099\n",
      "Johannesburg    0.457071  0.244131  0.218911\n",
      "Kuala_Lumpur    0.737374  0.154930  0.073998\n",
      "Lagos           0.256313  0.174883  0.000000\n",
      "Lisbon          0.200758  0.303991  0.165468\n",
      "London          0.194444  0.632629  0.447071\n",
      "Los_Angeles     0.612374  0.580986  0.642343\n",
      "Luxembourg      0.233586  0.478873  0.702980\n",
      "Madrid          0.160354  0.745305  0.486125\n",
      "Manila          0.864899  0.113850  0.013361\n",
      "Mexico_City     0.455808  0.228873  0.030832\n",
      "Milan           0.239899  0.606808  0.520041\n",
      "Montreal        0.308081  0.497653  0.550874\n",
      "Nairobi         0.473485  0.172535  0.031860\n",
      "New_York        0.453283  0.622066  0.648510\n",
      "Nicosia         0.305556  0.206573  0.263104\n",
      "Oslo            0.000000  1.000000  0.626927\n",
      "Panama          0.625000  0.221831  0.114080\n",
      "Paris           0.203283  0.602113  0.443988\n",
      "Rio_de_Janeiro  0.209596  0.187793  0.080164\n",
      "San_Paulo       0.344697  0.218310  0.086331\n",
      "Seoul           0.327020  0.328638  0.308325\n",
      "Singpore        0.579545  0.400235  0.137718\n",
      "Stockholm       0.280303  0.950704  0.375128\n",
      "Sydney          0.107323  0.475352  0.507708\n",
      "Taipei          0.709596  0.633803  0.326824\n",
      "Tel_Aviv        0.545455  0.434272  0.249743\n",
      "Tokyo           0.375000  0.994131  0.671120\n",
      "Toronto         0.385101  0.468310  0.570401\n",
      "Vienna          0.248737  0.559859  0.499486\n",
      "Zurich          0.359848  0.818075  1.000000\n"
     ]
    }
   ],
   "source": [
    "#Стандартизация прошла успешно\n",
    "print(X)"
   ]
  },
  {
   "cell_type": "code",
   "execution_count": null,
   "metadata": {},
   "outputs": [],
   "source": []
  },
  {
   "cell_type": "code",
   "execution_count": 26,
   "metadata": {},
   "outputs": [
    {
     "name": "stdout",
     "output_type": "stream",
     "text": [
      "[[ 0 46]]\n"
     ]
    }
   ],
   "source": [
    "#В начале проведем кластеризацию методом DBSCAN, \n",
    "#начальные параметры менять не будем ((eps=0.5, metric='euclidean', min_samples=5))\n",
    "model = DBSCAN().fit(X)\n",
    "clusters, members = np.unique(model.labels_, return_counts=True)\n",
    "print(np.asarray((clusters, members)).T)"
   ]
  },
  {
   "cell_type": "code",
   "execution_count": 30,
   "metadata": {},
   "outputs": [
    {
     "name": "stdout",
     "output_type": "stream",
     "text": [
      "[[-1  4]\n",
      " [ 0 38]\n",
      " [ 1  2]\n",
      " [ 2  2]]\n"
     ]
    }
   ],
   "source": [
    "#кластеризация со стандартными значениями нас не устраивает,\n",
    "#т.к. она по сути ничего не сделала.\n",
    "#Поэтому будем менять параметры до тех пор, пока не увидим устраивающий нас результат.\n",
    "#В данной попытке можно сказать что один огромный кластер, не устраивает.\n",
    "model = DBSCAN(eps=0.25, min_samples=2).fit(X)\n",
    "clusters, members = np.unique(model.labels_, return_counts=True)\n",
    "print(np.asarray((clusters, members)).T)"
   ]
  },
  {
   "cell_type": "code",
   "execution_count": 78,
   "metadata": {},
   "outputs": [
    {
     "name": "stdout",
     "output_type": "stream",
     "text": [
      "[[-1  8]\n",
      " [ 0 19]\n",
      " [ 1 19]]\n"
     ]
    }
   ],
   "source": [
    "#Уже лучше, но посмотрим еще\n",
    "model = DBSCAN(eps=0.2, min_samples=2).fit(X)\n",
    "clusters, members = np.unique(model.labels_, return_counts=True)\n",
    "print(np.asarray((clusters, members)).T)"
   ]
  },
  {
   "cell_type": "code",
   "execution_count": 70,
   "metadata": {},
   "outputs": [
    {
     "data": {
      "image/png": "[encoded data removed]",
      "text/plain": [
       "<matplotlib.figure.Figure at 0x7f563ffec7f0>"
      ]
     },
     "metadata": {
      "needs_background": "light"
     },
     "output_type": "display_data"
    }
   ],
   "source": [
    "#смотрим на оптимальные значения эпсилон\n",
    "#как мы видим всё же 0.2 это хорошее значение для нас, значение ~27 нас не устраивает, т.к. там \n",
    "#всё сливается в один большой кластер.\n",
    "plt.figure(figsize=(12,6))\n",
    "nn = NearestNeighbors(n_neighbors=2).fit(X)\n",
    "distances, idx = nn.kneighbors(X)\n",
    "distances = np.sort(distances, axis=0)\n",
    "distances = distances[:,1]\n",
    "plt.plot(distances)\n",
    "plt.show()"
   ]
  },
  {
   "cell_type": "code",
   "execution_count": 89,
   "metadata": {},
   "outputs": [
    {
     "name": "stdout",
     "output_type": "stream",
     "text": [
      "[[-1  8]\n",
      " [ 0 19]\n",
      " [ 1 19]]\n"
     ]
    }
   ],
   "source": [
    "model = DBSCAN(eps=0.2, min_samples=3).fit(X)\n",
    "clusters, members = np.unique(model.labels_, return_counts=True)\n",
    "print(np.asarray((clusters, members)).T)"
   ]
  },
  {
   "cell_type": "code",
   "execution_count": 91,
   "metadata": {},
   "outputs": [
    {
     "data": {
      "text/html": [
       "<div>\n",
       "<style scoped>\n",
       "    .dataframe tbody tr th:only-of-type {\n",
       "        vertical-align: middle;\n",
       "    }\n",
       "\n",
       "    .dataframe tbody tr th {\n",
       "        vertical-align: top;\n",
       "    }\n",
       "\n",
       "    .dataframe thead th {\n",
       "        text-align: right;\n",
       "    }\n",
       "</style>\n",
       "<table border=\"1\" class=\"dataframe\">\n",
       "  <thead>\n",
       "    <tr style=\"text-align: right;\">\n",
       "      <th></th>\n",
       "      <th>Work</th>\n",
       "      <th>Price</th>\n",
       "      <th>Salary</th>\n",
       "    </tr>\n",
       "    <tr>\n",
       "      <th>dbscan</th>\n",
       "      <th></th>\n",
       "      <th></th>\n",
       "      <th></th>\n",
       "    </tr>\n",
       "  </thead>\n",
       "  <tbody>\n",
       "    <tr>\n",
       "      <th>-1</th>\n",
       "      <td>0.400726</td>\n",
       "      <td>0.817195</td>\n",
       "      <td>0.601876</td>\n",
       "    </tr>\n",
       "    <tr>\n",
       "      <th>0</th>\n",
       "      <td>0.263889</td>\n",
       "      <td>0.554299</td>\n",
       "      <td>0.539136</td>\n",
       "    </tr>\n",
       "    <tr>\n",
       "      <th>1</th>\n",
       "      <td>0.475013</td>\n",
       "      <td>0.232580</td>\n",
       "      <td>0.124249</td>\n",
       "    </tr>\n",
       "  </tbody>\n",
       "</table>\n",
       "</div>"
      ],
      "text/plain": [
       "            Work     Price    Salary\n",
       "dbscan                              \n",
       "-1      0.400726  0.817195  0.601876\n",
       " 0      0.263889  0.554299  0.539136\n",
       " 1      0.475013  0.232580  0.124249"
      ]
     },
     "execution_count": 91,
     "metadata": {},
     "output_type": "execute_result"
    }
   ],
   "source": [
    "#Посмотрим на средние показатели полученных групп. \n",
    "#Что мы тут видим? первая строка - это выбросы. сюда попали слишком развитые города и столицы некоторых стран.\n",
    "#В нулевом кластере находятся богатые города, в которых работают меньше, чем в первом кластере, получают больше, но\n",
    "# и цены выше. Всё логично.\n",
    "#В первый кластер попали бедные страны. Работают тут больше, чем в богатых городах, а получают в разы меньше, цены,\n",
    "#соответственно, тоже ниже.\n",
    "X['dbscan'] = model.labels_\n",
    "X.groupby('dbscan').mean()"
   ]
  },
  {
   "cell_type": "code",
   "execution_count": 93,
   "metadata": {},
   "outputs": [
    {
     "name": "stdout",
     "output_type": "stream",
     "text": [
      "                    Work     Price    Salary  dbscan\n",
      "City                                                \n",
      "Amsterdam       0.165404  0.414319  0.475848       0\n",
      "Athens          0.263889  0.275822  0.284687       1\n",
      "Bogota          0.718434  0.089202  0.090442       1\n",
      "Bombay          0.592172  0.000000  0.026721       1\n",
      "Brussels        0.157828  0.510563  0.491264       0\n",
      "Buenos_Aires    0.489899  0.302817  0.100719       1\n",
      "Caracas         0.578283  0.360329  0.084275       1\n",
      "Chicago         0.430556  0.511737  0.608428       0\n",
      "Copenhagen      0.169192  0.715962  0.618705       0\n",
      "Dublin          0.222222  0.536385  0.397739       0\n",
      "Dusseldorf      0.138889  0.565728  0.590956       0\n",
      "Frankfurt       0.084596  0.518779  0.593011       0\n",
      "Geneva          0.375000  0.769953  0.900308      -1\n",
      "Helsinki        0.106061  0.977700  0.656732      -1\n",
      "Hong_Kong       1.000000  0.393192  0.257965      -1\n",
      "Houston         0.498737  0.488263  0.448099       0\n",
      "Johannesburg    0.457071  0.244131  0.218911       1\n",
      "Kuala_Lumpur    0.737374  0.154930  0.073998       1\n",
      "Lagos           0.256313  0.174883  0.000000       1\n",
      "Lisbon          0.200758  0.303991  0.165468       1\n",
      "London          0.194444  0.632629  0.447071       0\n",
      "Los_Angeles     0.612374  0.580986  0.642343       0\n",
      "Luxembourg      0.233586  0.478873  0.702980       0\n",
      "Madrid          0.160354  0.745305  0.486125       0\n",
      "Manila          0.864899  0.113850  0.013361       1\n",
      "Mexico_City     0.455808  0.228873  0.030832       1\n",
      "Milan           0.239899  0.606808  0.520041       0\n",
      "Montreal        0.308081  0.497653  0.550874       0\n",
      "Nairobi         0.473485  0.172535  0.031860       1\n",
      "New_York        0.453283  0.622066  0.648510       0\n",
      "Nicosia         0.305556  0.206573  0.263104       1\n",
      "Oslo            0.000000  1.000000  0.626927      -1\n",
      "Panama          0.625000  0.221831  0.114080       1\n",
      "Paris           0.203283  0.602113  0.443988       0\n",
      "Rio_de_Janeiro  0.209596  0.187793  0.080164       1\n",
      "San_Paulo       0.344697  0.218310  0.086331       1\n",
      "Seoul           0.327020  0.328638  0.308325       1\n",
      "Singpore        0.579545  0.400235  0.137718       1\n",
      "Stockholm       0.280303  0.950704  0.375128      -1\n",
      "Sydney          0.107323  0.475352  0.507708       0\n",
      "Taipei          0.709596  0.633803  0.326824      -1\n",
      "Tel_Aviv        0.545455  0.434272  0.249743       1\n",
      "Tokyo           0.375000  0.994131  0.671120      -1\n",
      "Toronto         0.385101  0.468310  0.570401       0\n",
      "Vienna          0.248737  0.559859  0.499486       0\n",
      "Zurich          0.359848  0.818075  1.000000      -1\n"
     ]
    }
   ],
   "source": [
    "print(X)"
   ]
  },
  {
   "cell_type": "markdown",
   "metadata": {},
   "source": [
    "# Интерпретация кластеров\n",
    "## В результате моего анализа я получил 2 кластера и 8 выбросов. \n",
    "## 1. 8 выбросов представляют собой очень развитые города, который настолько развиты, что их нельзя отнести к просто развитым в экономическом плане городам. Тут, в основном, находятся высокоразвитые центры стран.\n",
    "## 2. Далее следуют экономически развитые города (тут находятся многие города США, Европы и Австралии).\n",
    "## 3. В последнем кластере находятся города с плохим экономическим развитием (низкие зарплаты и цены в магазинах, больше рабочих часов)."
   ]
  },
  {
   "cell_type": "code",
   "execution_count": null,
   "metadata": {},
   "outputs": [],
   "source": []
  }
 ],
 "metadata": {
  "kernelspec": {
   "display_name": "Python 3",
   "language": "python",
   "name": "python3"
  },
  "language_info": {
   "codemirror_mode": {
    "name": "ipython",
    "version": 3
   },
   "file_extension": ".py",
   "mimetype": "text/x-python",
   "name": "python",
   "nbconvert_exporter": "python",
   "pygments_lexer": "ipython3",
   "version": "3.8.7"
  }
 },
 "nbformat": 4,
 "nbformat_minor": 4
}
