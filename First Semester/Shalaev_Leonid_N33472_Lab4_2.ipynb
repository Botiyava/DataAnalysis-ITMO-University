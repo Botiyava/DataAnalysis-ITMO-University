{
 "cells": [
  {
   "cell_type": "code",
   "execution_count": 12,
   "metadata": {},
   "outputs": [],
   "source": [
    "import numpy as np\n",
    "import pandas as pd\n",
    "\n",
    "import matplotlib\n",
    "import matplotlib.pyplot as plt\n",
    "matplotlib.style.use('ggplot')\n",
    "%matplotlib inline\n",
    "\n",
    "import os\n",
    "from scipy import stats"
   ]
  },
  {
   "cell_type": "code",
   "execution_count": 2,
   "metadata": {},
   "outputs": [],
   "source": [
    "#Задаём рабочую папку\n",
    "os.chdir(\"/home/botiyava/learning/subjects/algo/lec5/eco228/Unions and State Labor Law\")"
   ]
  },
  {
   "cell_type": "code",
   "execution_count": 3,
   "metadata": {},
   "outputs": [
    {
     "data": {
      "text/html": [
       "<div>\n",
       "<style scoped>\n",
       "    .dataframe tbody tr th:only-of-type {\n",
       "        vertical-align: middle;\n",
       "    }\n",
       "\n",
       "    .dataframe tbody tr th {\n",
       "        vertical-align: top;\n",
       "    }\n",
       "\n",
       "    .dataframe thead th {\n",
       "        text-align: right;\n",
       "    }\n",
       "</style>\n",
       "<table border=\"1\" class=\"dataframe\">\n",
       "  <thead>\n",
       "    <tr style=\"text-align: right;\">\n",
       "      <th></th>\n",
       "      <th>STATE</th>\n",
       "      <th>DENS</th>\n",
       "      <th>COMP</th>\n",
       "      <th>RTW</th>\n",
       "      <th>PVT</th>\n",
       "    </tr>\n",
       "  </thead>\n",
       "  <tbody>\n",
       "    <tr>\n",
       "      <th>0</th>\n",
       "      <td>NY</td>\n",
       "      <td>56.9</td>\n",
       "      <td>1</td>\n",
       "      <td>0</td>\n",
       "      <td>31.2</td>\n",
       "    </tr>\n",
       "    <tr>\n",
       "      <th>1</th>\n",
       "      <td>MI</td>\n",
       "      <td>49.6</td>\n",
       "      <td>1</td>\n",
       "      <td>0</td>\n",
       "      <td>30.2</td>\n",
       "    </tr>\n",
       "    <tr>\n",
       "      <th>2</th>\n",
       "      <td>WA</td>\n",
       "      <td>32.4</td>\n",
       "      <td>1</td>\n",
       "      <td>0</td>\n",
       "      <td>33.1</td>\n",
       "    </tr>\n",
       "    <tr>\n",
       "      <th>3</th>\n",
       "      <td>HI</td>\n",
       "      <td>54.6</td>\n",
       "      <td>1</td>\n",
       "      <td>0</td>\n",
       "      <td>24.7</td>\n",
       "    </tr>\n",
       "    <tr>\n",
       "      <th>4</th>\n",
       "      <td>AK</td>\n",
       "      <td>30.7</td>\n",
       "      <td>1</td>\n",
       "      <td>0</td>\n",
       "      <td>30.1</td>\n",
       "    </tr>\n",
       "  </tbody>\n",
       "</table>\n",
       "</div>"
      ],
      "text/plain": [
       "  STATE  DENS  COMP  RTW   PVT\n",
       "0    NY  56.9     1    0  31.2\n",
       "1    MI  49.6     1    0  30.2\n",
       "2    WA  32.4     1    0  33.1\n",
       "3    HI  54.6     1    0  24.7\n",
       "4    AK  30.7     1    0  30.1"
      ]
     },
     "execution_count": 3,
     "metadata": {},
     "output_type": "execute_result"
    }
   ],
   "source": [
    "#Читаем данные\n",
    "df = pd.read_csv('Unions and State Labor Law_data', delim_whitespace=True)\n",
    "df.head()"
   ]
  },
  {
   "cell_type": "code",
   "execution_count": 4,
   "metadata": {},
   "outputs": [
    {
     "name": "stdout",
     "output_type": "stream",
     "text": [
      "   STATE  DENS  COMP  RTW   PVT\n",
      "0     NY  56.9     1    0  31.2\n",
      "1     MI  49.6     1    0  30.2\n",
      "2     WA  32.4     1    0  33.1\n",
      "3     HI  54.6     1    0  24.7\n",
      "4     AK  30.7     1    0  30.1\n",
      "5     WV  30.2     0    0  28.5\n",
      "6     IL  30.6     0    0  26.9\n",
      "7     OR  35.1     1    0  25.5\n",
      "8     OH  38.4     1    0  25.3\n",
      "9     PA  46.2     1    0  23.6\n",
      "10    MO  26.1     0    0  26.7\n",
      "11    CA  32.9     1    0  23.8\n",
      "12    IN  28.6     0    0  24.4\n",
      "13    MN  43.5     1    0  20.7\n",
      "14    WI  44.8     1    0  20.3\n",
      "15    NV  38.0     0    1  19.4\n",
      "16    MT  25.0     1    0  20.7\n",
      "17    IO  35.0     1    1  16.9\n",
      "18    KY  32.8     0    0  17.5\n",
      "19    DE  50.6     1    0  14.2\n",
      "20    NJ  31.6     1    0  17.5\n",
      "21    MA  52.5     1    0  14.4\n",
      "22    RI  61.1     1    0  12.1\n",
      "23    CT  51.6     1    0  14.1\n",
      "24    MD  32.4     0    0  14.3\n",
      "25    ME  47.7     1    0  11.2\n",
      "26    AL  32.4     0    1  14.2\n",
      "27    CO  32.1     0    0  14.8\n",
      "28    TN  33.0     0    1  14.0\n",
      "29    UT  42.3     0    1   9.4\n",
      "30    NB  20.8     1    1  12.4\n",
      "31    ID  26.1     0    0  13.3\n",
      "32    WY  31.4     0    1  11.5\n",
      "33    ND  29.0     1    1   9.5\n",
      "34    LA  22.5     0    1  11.8\n",
      "35    AR  21.6     0    1  11.2\n",
      "36    OK  25.7     0    0   9.9\n",
      "37    NM  17.4     0    0  11.2\n",
      "38    AZ  24.0     0    1  10.1\n",
      "39    GA  19.6     0    1  11.0\n",
      "40    TX  27.3     0    1   9.6\n",
      "41    NH  41.4     1    0   7.5\n",
      "42    KS  22.9     1    1   9.2\n",
      "43    VT  37.3     1    0   6.5\n",
      "44    VA  20.1     0    1   8.1\n",
      "45    SD  23.1     1    1   6.2\n",
      "46    FL  21.4     1    1   7.2\n",
      "47    MS  13.4     0    1   8.1\n",
      "48    NC  28.6     0    1   4.6\n",
      "49    SC  13.7     1    1   3.9\n"
     ]
    }
   ],
   "source": [
    "print(df)"
   ]
  },
  {
   "cell_type": "code",
   "execution_count": 5,
   "metadata": {},
   "outputs": [],
   "source": [
    "#Разделяем данные на две выборки\n",
    "#Первая - закон right to work не принят\n",
    "#Вторая - закон right to win принят\n",
    "x = df[df[\"RTW\"] == 0][\"DENS\"]\n",
    "y = df[df[\"RTW\"] == 1][\"DENS\"]\n",
    "x.name, y.name = \"не принят\", \"принят\""
   ]
  },
  {
   "cell_type": "code",
   "execution_count": 6,
   "metadata": {},
   "outputs": [
    {
     "name": "stdout",
     "output_type": "stream",
     "text": [
      "0     56.9\n",
      "1     49.6\n",
      "2     32.4\n",
      "3     54.6\n",
      "4     30.7\n",
      "5     30.2\n",
      "6     30.6\n",
      "7     35.1\n",
      "8     38.4\n",
      "9     46.2\n",
      "10    26.1\n",
      "11    32.9\n",
      "12    28.6\n",
      "13    43.5\n",
      "14    44.8\n",
      "16    25.0\n",
      "18    32.8\n",
      "19    50.6\n",
      "20    31.6\n",
      "21    52.5\n",
      "22    61.1\n",
      "23    51.6\n",
      "24    32.4\n",
      "25    47.7\n",
      "27    32.1\n",
      "31    26.1\n",
      "36    25.7\n",
      "37    17.4\n",
      "41    41.4\n",
      "43    37.3\n",
      "Name: не принят, dtype: float64\n"
     ]
    }
   ],
   "source": [
    "print(x)"
   ]
  },
  {
   "cell_type": "code",
   "execution_count": 7,
   "metadata": {},
   "outputs": [
    {
     "name": "stdout",
     "output_type": "stream",
     "text": [
      "15    38.0\n",
      "17    35.0\n",
      "26    32.4\n",
      "28    33.0\n",
      "29    42.3\n",
      "30    20.8\n",
      "32    31.4\n",
      "33    29.0\n",
      "34    22.5\n",
      "35    21.6\n",
      "38    24.0\n",
      "39    19.6\n",
      "40    27.3\n",
      "42    22.9\n",
      "44    20.1\n",
      "45    23.1\n",
      "46    21.4\n",
      "47    13.4\n",
      "48    28.6\n",
      "49    13.7\n",
      "Name: принят, dtype: float64\n"
     ]
    }
   ],
   "source": [
    "print(y)"
   ]
  },
  {
   "cell_type": "code",
   "execution_count": 13,
   "metadata": {},
   "outputs": [
    {
     "name": "stdout",
     "output_type": "stream",
     "text": [
      "Stats(x)=0.952, p(x)=0.192\n",
      "Stats(y)=0.965, p(y)=0.646\n"
     ]
    }
   ],
   "source": [
    "#Применим тест Шапиро-Уилка. Мы видим, что обе группы имеют нормальное распределение, т.к. в обоих случаях\n",
    "# p > 0.05. \n",
    "#Гипотеза нормальности не отвергается в обоих случаях.\n",
    "from scipy.stats import shapiro\n",
    "stat, p = shapiro(x)\n",
    "print('Stats(x)=%.3f, p(x)=%.3f'%(stat,p))\n",
    "stat, p = shapiro(y)\n",
    "print('Stats(y)=%.3f, p(y)=%.3f'%(stat,p))"
   ]
  },
  {
   "cell_type": "code",
   "execution_count": 9,
   "metadata": {},
   "outputs": [],
   "source": [
    "#Функция, которая построит 2 гистограммы, которые будут наложены друг на друга.\n",
    "#Они нам нужны для выбора критерия оценки нашей гипотезы.\n",
    "def two_histograms(x,y):\n",
    "    x.hist(alpha=0.5, weights=[1./len(x)]*len(x))\n",
    "    y.hist(alpha=0.5, weights=[1./len(y)]*len(y))\n",
    "    plt.axvline(x.mean(), color=\"red\", alpha=0.8, linestyle=\"dashed\")\n",
    "    plt.axvline(y.mean(), color=\"blue\", alpha=0.8, linestyle=\"dashed\")\n",
    "    plt.legend([x.name, y.name])"
   ]
  },
  {
   "cell_type": "code",
   "execution_count": 10,
   "metadata": {},
   "outputs": [
    {
     "data": {
      "image/png": "[encoded data removed]",
      "text/plain": [
       "<matplotlib.figure.Figure at 0x7f88fc272b00>"
      ]
     },
     "metadata": {
      "needs_background": "light"
     },
     "output_type": "display_data"
    }
   ],
   "source": [
    "#Построив гистограммы мы лишь убеждаемся, что тест Шапиро-Уилка дал верный результат. \n",
    "#Хоть мы и не наблюдаем идеальных колокообразных графиков, но выбросов нет, легкую асимметрию можно опустить.\n",
    "#Т.к. наши группы данных имеют нормальное распределение, то используем сравнение по среднему арифметическому,\n",
    "#а это значит, что мы должны использовать критерий стьюдента.\n",
    "two_histograms(x,y)"
   ]
  },
  {
   "cell_type": "code",
   "execution_count": 22,
   "metadata": {},
   "outputs": [
    {
     "name": "stdout",
     "output_type": "stream",
     "text": [
      "p-value=0.000092870\n"
     ]
    }
   ],
   "source": [
    "#Делаем тестирование по критерию Стьюдента\n",
    "#т.к. p-value < alpha (0.05), то делаем вывод, что наблюдается зависимость присутствует.\n",
    "#Гипотеза о равенстве средних арифметических не отвергнута.\n",
    "from scipy.stats import ttest_ind\n",
    "_, p = ttest_ind(x,y)\n",
    "print('p-value=%.9f' % (p))"
   ]
  },
  {
   "cell_type": "code",
   "execution_count": 31,
   "metadata": {},
   "outputs": [],
   "source": [
    "x = df[df[\"RTW\"] == 0][\"DENS\"].reset_index()\n",
    "y = df[df[\"RTW\"] == 1][\"DENS\"].reset_index()\n",
    "x.name, y.name = \"не принят\", \"принят\""
   ]
  },
  {
   "cell_type": "code",
   "execution_count": 32,
   "metadata": {},
   "outputs": [
    {
     "data": {
      "image/png": "[encoded data removed]",
      "text/plain": [
       "<matplotlib.figure.Figure at 0x7f88f9cca7b8>"
      ]
     },
     "metadata": {
      "needs_background": "light"
     },
     "output_type": "display_data"
    },
    {
     "data": {
      "image/png": "[encoded data removed]",
      "text/plain": [
       "<matplotlib.figure.Figure at 0x7f88f9c46dd8>"
      ]
     },
     "metadata": {
      "needs_background": "light"
     },
     "output_type": "display_data"
    }
   ],
   "source": [
    "#Для более наглядного представления результатов анализа приведём ящиковую диаграмму,\n",
    "#Построенную по сравниваемым выборкам.\n",
    "\n",
    "plt.show(x.boxplot(column=['DENS']))\n",
    "plt.show(y.boxplot(column=['DENS']))"
   ]
  },
  {
   "cell_type": "markdown",
   "metadata": {},
   "source": [
    "## Интерпретация результата\n",
    "### По итогам наших исследований было определено, что закон right to work влияет на процент  муниципальных служащих, которые состоят в профсоюзах.Так, в штатах, где этот закон принят процент служищих сильно меньше чем в тех штатах, где он не принят. Действительно, данный закон запрещает заключать контракты, которые требуют,чтобы все члены, получающие выгоду от проысоюзного контракта, вносили свой вклад в расходыпо представительству профсоюзов. Таким образом гос. служащим не выгодно состоять в профсоюзе, если в их штате принят данный закон."
   ]
  },
  {
   "cell_type": "code",
   "execution_count": null,
   "metadata": {},
   "outputs": [],
   "source": []
  }
 ],
 "metadata": {
  "kernelspec": {
   "display_name": "Python 3",
   "language": "python",
   "name": "python3"
  },
  "language_info": {
   "codemirror_mode": {
    "name": "ipython",
    "version": 3
   },
   "file_extension": ".py",
   "mimetype": "text/x-python",
   "name": "python",
   "nbconvert_exporter": "python",
   "pygments_lexer": "ipython3",
   "version": "3.5.3"
  }
 },
 "nbformat": 4,
 "nbformat_minor": 4
}
