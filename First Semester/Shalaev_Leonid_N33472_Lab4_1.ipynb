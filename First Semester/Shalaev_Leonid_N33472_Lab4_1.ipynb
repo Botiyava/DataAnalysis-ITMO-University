{
 "cells": [
  {
   "cell_type": "code",
   "execution_count": 96,
   "metadata": {},
   "outputs": [],
   "source": [
    "import numpy as np\n",
    "import pandas as pd\n",
    "\n",
    "import matplotlib\n",
    "import matplotlib.pyplot as plt\n",
    "matplotlib.style.use('ggplot')\n",
    "%matplotlib inline\n",
    "\n",
    "import os\n",
    "from scipy import stats"
   ]
  },
  {
   "cell_type": "code",
   "execution_count": 97,
   "metadata": {},
   "outputs": [],
   "source": [
    "#Задаём рабочую папку\n",
    "os.chdir(\"/home/botiyava/learning/subjects/algo/lec5/eco228/Nursing Home Data\")"
   ]
  },
  {
   "cell_type": "code",
   "execution_count": 100,
   "metadata": {},
   "outputs": [],
   "source": [
    "#Читаем данные\n",
    "df = pd.read_csv('data', delim_whitespace=True)\n"
   ]
  },
  {
   "cell_type": "code",
   "execution_count": 101,
   "metadata": {},
   "outputs": [
    {
     "name": "stdout",
     "output_type": "stream",
     "text": [
      "    BED  MCDAYS  TDAYS  PCREV  NSAL  FEXP  RURAL\n",
      "0   244     128    385  23521  5230  5334      0\n",
      "1    59     155    203   9160  2459   493      1\n",
      "2   120     281    392  21900  6304  6115      0\n",
      "3   120     291    419  22354  6590  6346      0\n",
      "4   120     238    363  17421  5362  6225      0\n",
      "5    65     180    234  10531  3622   449      1\n",
      "6   120     306    372  22147  4406  4998      1\n",
      "7    90     214    305  14025  4173   966      1\n",
      "8    96     155    169   8812  1955  1260      0\n",
      "9   120     133    188  11729  3224  6442      1\n",
      "10   62     148    192   8896  2409  1236      0\n",
      "11  120     274    426  20987  2066  3360      1\n",
      "12  116     154    321  17655  5946  4231      0\n",
      "13   59     120    164   7085  1925  1280      1\n",
      "14   80     261    284  13089  4166  1123      1\n",
      "15  120     338    375  21453  5257  5206      1\n",
      "16   80      77    133   7790  1988  4443      1\n",
      "17  100     204    318  18309  4156  4585      1\n",
      "18   60      97    213   8872  1914  1675      1\n",
      "19  110     178    280  17881  5173  5686      1\n",
      "20  120     232    336  17004  4630   907      0\n",
      "21  135     316    442  23829  7489  3351      0\n",
      "22   59     163    191   9424  2051  1756      1\n",
      "23   60      96    202  12474  3803  2123      0\n",
      "24   25      74     83   4078  2008  4531      1\n",
      "25  221     514    776  36029  1288  2543      1\n",
      "26   64      91    214   8782  4729  4446      1\n",
      "27   62     146    204   8951  2367  1064      0\n",
      "28  108     255    366  17446  5933  2987      1\n",
      "29   62     144    220   6164  2782   411      1\n",
      "30   90     151    286   2853  4651  4197      0\n",
      "31  146     100    375  21334  6857  1198      0\n",
      "32   62     174    189   8082  2143  1209      1\n",
      "33   30      54     88   3948  3025   137      1\n",
      "34   79     213    278  11649  2905  1279      0\n",
      "35   44     127    158   7850  1498  1273      1\n",
      "36  120     208    423  29035  6236  3524      0\n",
      "37  100     255    300  17532  3547  2561      1\n",
      "38   49     110    177   8197  2810  3874      1\n",
      "39  123     208    336  22555  6059  6402      1\n",
      "40   82     114    136   8459  1995  1911      1\n",
      "41   58     166    205  10412  2245  1122      1\n",
      "42  110     228    323  16661  4029  3893      1\n",
      "43   62     183    222  12406  2784  2212      1\n",
      "44   86      62    200  11312  3720  2959      1\n",
      "45  102     326    355  14499  3866  3006      1\n",
      "46  135     157    471  24274  7485  1344      0\n",
      "47   78     154    203   9327  3672  1242      1\n",
      "48   83     224    390  12362  3995  1484      1\n",
      "49   60      48    213  10644  2820  1154      0\n",
      "50   54     119    144   7556  2088   245      1\n",
      "51  120     217    327  20182  4432  6274      0\n"
     ]
    }
   ],
   "source": [
    "print(df)"
   ]
  },
  {
   "cell_type": "markdown",
   "metadata": {},
   "source": [
    "В начале зададим уровень значимости альфа, он будет стандартным - 0.05, т.к. мы имеем дело с финансами (а в экономике принято делать альфа = 0.05)"
   ]
  },
  {
   "cell_type": "code",
   "execution_count": 102,
   "metadata": {},
   "outputs": [],
   "source": [
    "#разделяем данные на две выборки. \n",
    "#Первая - загородные больницы\n",
    "#Вторая - городские больницы\n",
    "x = df[df[\"RURAL\"] == 0][\"FEXP\"]\n",
    "y = df[df[\"RURAL\"] == 1][\"FEXP\"]\n",
    "x.name, y.name = \"not rural\", \"rural\""
   ]
  },
  {
   "cell_type": "code",
   "execution_count": 103,
   "metadata": {},
   "outputs": [],
   "source": [
    "#Функция, которая построит 2 гистограммы, которые будут наложены друг на друга.\n",
    "#Они нам нужны для выбора критерия оценки нашей гипотезы.\n",
    "def two_histograms(x,y):\n",
    "    x.hist(alpha=0.5, weights=[1./len(x)]*len(x))\n",
    "    y.hist(alpha=0.5, weights=[1./len(y)]*len(y))\n",
    "    plt.axvline(x.mean(), color=\"red\", alpha=0.8, linestyle=\"dashed\")\n",
    "    plt.axvline(y.mean(), color=\"blue\", alpha=0.8, linestyle=\"dashed\")\n",
    "    plt.legend([x.name, y.name])"
   ]
  },
  {
   "cell_type": "code",
   "execution_count": 104,
   "metadata": {},
   "outputs": [
    {
     "data": {
      "image/png": "[encoded data removed]",
      "text/plain": [
       "<matplotlib.figure.Figure at 0x7f1e03ee7978>"
      ]
     },
     "metadata": {
      "needs_background": "light"
     },
     "output_type": "display_data"
    }
   ],
   "source": [
    "two_histograms(x,y)\n",
    "#наблюдается ассиметрия,очень сильное отклонение формы гистограммы от колоколообразной\n",
    "#формы, распределения обеих выборок существенно отличаются от нормального распределения.\n",
    "#нужно использовать вариант со сравнением медиан, а это значит, что мы должны использовать критерий\n",
    "#Манна-Уитни-Вилкоксона."
   ]
  },
  {
   "cell_type": "code",
   "execution_count": 125,
   "metadata": {},
   "outputs": [
    {
     "name": "stdout",
     "output_type": "stream",
     "text": [
      "Stats(x)=0.733, p(x)=0.000\n",
      "Stats(y)=0.748, p(y)=0.000\n"
     ]
    }
   ],
   "source": [
    "#Чтобы убедиться, что это не нормальное распределение, посмотрим на тест Шапиро-Вилка\n",
    "#Видим, что распределение точно не нормальное (p < 0.05). Мы всё сделали верно. \n",
    "#Гипотеза нормальности  отвергается в обоих случаях.\n",
    "from scipy.stats import shapiro\n",
    "stat, p = shapiro(x)\n",
    "print('Stats(x)=%.3f, p(x)=%.3f'%(stat,p))\n",
    "stat, p = shapiro(y)\n",
    "print('Stats(y)=%.3f, p(y)=%.3f'%(stat,p))"
   ]
  },
  {
   "cell_type": "code",
   "execution_count": 105,
   "metadata": {},
   "outputs": [
    {
     "name": "stdout",
     "output_type": "stream",
     "text": [
      "0     5334\n",
      "2     6115\n",
      "3     6346\n",
      "4     6225\n",
      "8     1260\n",
      "10    1236\n",
      "12    4231\n",
      "20     907\n",
      "21    3351\n",
      "23    2123\n",
      "27    1064\n",
      "30    4197\n",
      "31    1198\n",
      "34    1279\n",
      "36    3524\n",
      "46    1344\n",
      "49    1154\n",
      "51    6274\n",
      "Name: not rural, dtype: int64\n"
     ]
    }
   ],
   "source": [
    "#красный график сильно отличался от синего. я решил посмотреть в чем  дело. Оказалось просто что больниц\n",
    "#в городах намного больше,чем за его пределами. Ошибки никакой нет.\n",
    "print(x)"
   ]
  },
  {
   "cell_type": "code",
   "execution_count": 106,
   "metadata": {},
   "outputs": [
    {
     "name": "stdout",
     "output_type": "stream",
     "text": [
      "1      493\n",
      "5      449\n",
      "6     4998\n",
      "7      966\n",
      "9     6442\n",
      "11    3360\n",
      "13    1280\n",
      "14    1123\n",
      "15    5206\n",
      "16    4443\n",
      "17    4585\n",
      "18    1675\n",
      "19    5686\n",
      "22    1756\n",
      "24    4531\n",
      "25    2543\n",
      "26    4446\n",
      "28    2987\n",
      "29     411\n",
      "32    1209\n",
      "33     137\n",
      "35    1273\n",
      "37    2561\n",
      "38    3874\n",
      "39    6402\n",
      "40    1911\n",
      "41    1122\n",
      "42    3893\n",
      "43    2212\n",
      "44    2959\n",
      "45    3006\n",
      "47    1242\n",
      "48    1484\n",
      "50     245\n",
      "Name: rural, dtype: int64\n"
     ]
    }
   ],
   "source": [
    "print(y)"
   ]
  },
  {
   "cell_type": "code",
   "execution_count": 107,
   "metadata": {},
   "outputs": [
    {
     "name": "stdout",
     "output_type": "stream",
     "text": [
      "p-value:  0.26594759448891914\n"
     ]
    }
   ],
   "source": [
    "#Используем критерий Манна-Уитни для оценки\n",
    "res = stats.mannwhitneyu(x,y)\n",
    "print(\"p-value: \", res[1])\n",
    "#p-value > alpha, значит гипотеза о равенстве медиан не отвергается.\n",
    "#Гипотеза о равенстве медиан не отвергнута.\n"
   ]
  },
  {
   "cell_type": "code",
   "execution_count": 108,
   "metadata": {},
   "outputs": [],
   "source": [
    "#Для более наглядного представления результатов анализа приведём ящиковую диаграмму,\n",
    "#Построенную по сравниваемым выборкам.\n",
    "x = df[df[\"RURAL\"] == 0][\"FEXP\"].reset_index()\n",
    "y = df[df[\"RURAL\"] == 1][\"FEXP\"].reset_index()\n",
    "x.name, y.name = \"not rural\", \"rural\""
   ]
  },
  {
   "cell_type": "code",
   "execution_count": 126,
   "metadata": {},
   "outputs": [
    {
     "data": {
      "image/png": "[encoded data removed]",
      "text/plain": [
       "<matplotlib.figure.Figure at 0x7f1e03b89d68>"
      ]
     },
     "metadata": {
      "needs_background": "light"
     },
     "output_type": "display_data"
    },
    {
     "data": {
      "image/png": "[encoded data removed]",
      "text/plain": [
       "<matplotlib.figure.Figure at 0x7f1e03d28e48>"
      ]
     },
     "metadata": {
      "needs_background": "light"
     },
     "output_type": "display_data"
    }
   ],
   "source": [
    "plt.show(x.boxplot(column=['FEXP']))\n",
    "plt.show(y.boxplot(column=['FEXP']))"
   ]
  },
  {
   "cell_type": "markdown",
   "metadata": {},
   "source": [
    "## Интерпретация результата\n",
    "### По результатам исследования было выяснено, что разница в расходах загородных и городских больниц незначительна. Разница медиан вызвана случайными отклонениями.\n"
   ]
  },
  {
   "cell_type": "code",
   "execution_count": null,
   "metadata": {},
   "outputs": [],
   "source": []
  }
 ],
 "metadata": {
  "kernelspec": {
   "display_name": "Python 3",
   "language": "python",
   "name": "python3"
  },
  "language_info": {
   "codemirror_mode": {
    "name": "ipython",
    "version": 3
   },
   "file_extension": ".py",
   "mimetype": "text/x-python",
   "name": "python",
   "nbconvert_exporter": "python",
   "pygments_lexer": "ipython3",
   "version": "3.5.3"
  }
 },
 "nbformat": 4,
 "nbformat_minor": 4
}
